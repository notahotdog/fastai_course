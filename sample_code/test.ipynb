{
 "cells": [
  {
   "cell_type": "markdown",
   "metadata": {},
   "source": [
    "### Partials"
   ]
  },
  {
   "cell_type": "code",
   "execution_count": 99,
   "metadata": {},
   "outputs": [
    {
     "data": {
      "text/plain": [
       "10.75"
      ]
     },
     "execution_count": 99,
     "metadata": {},
     "output_type": "execute_result"
    }
   ],
   "source": [
    "def quad(a,b,c,x):\n",
    "    return a*x**2 + b*x + c\n",
    "\n",
    "quad(3,2,1,1.5)"
   ]
  },
  {
   "cell_type": "code",
   "execution_count": 100,
   "metadata": {},
   "outputs": [],
   "source": [
    "from functools import partial\n",
    "def mk_quad(a,b,c): return partial(quad, a,b,c)"
   ]
  },
  {
   "cell_type": "code",
   "execution_count": 101,
   "metadata": {},
   "outputs": [
    {
     "data": {
      "text/plain": [
       "10.75"
      ]
     },
     "execution_count": 101,
     "metadata": {},
     "output_type": "execute_result"
    }
   ],
   "source": [
    "f = mk_quad(3,2,1)\n",
    "f(1.5)"
   ]
  },
  {
   "cell_type": "markdown",
   "metadata": {},
   "source": [
    "# 1. Understanding SGD"
   ]
  },
  {
   "cell_type": "markdown",
   "metadata": {},
   "source": [
    "Prerequisite - use the anaconda3 terminal compiler"
   ]
  },
  {
   "cell_type": "code",
   "execution_count": 102,
   "metadata": {},
   "outputs": [],
   "source": [
    "import fastbook\n",
    "fastbook.setup_book()\n",
    "\n",
    "from fastai.vision.all import *\n",
    "from fastbook import *\n",
    "import torch"
   ]
  },
  {
   "cell_type": "markdown",
   "metadata": {},
   "source": [
    "#### 1. Plotting functions and how it works"
   ]
  },
  {
   "cell_type": "code",
   "execution_count": 103,
   "metadata": {},
   "outputs": [
    {
     "data": {
      "image/png": "[encoded data removed]",
      "text/plain": [
       "<Figure size 432x288 with 1 Axes>"
      ]
     },
     "metadata": {
      "needs_background": "light"
     },
     "output_type": "display_data"
    }
   ],
   "source": [
    "# def f(x): return x**2\n",
    "\n",
    "plot_function(f, 'x', 'x**2', min=-5, max=5)\n",
    "plt.scatter(-2.0, f(-2.0), color='red');\n",
    "plt.scatter(2.0, f(2.0), color='red');\n",
    "plt.scatter(4.0, f(4.0), color='red'); # scatter (x, y, color)"
   ]
  },
  {
   "cell_type": "markdown",
   "metadata": {},
   "source": [
    "#### 2. Basic method for how the gradient is computed"
   ]
  },
  {
   "cell_type": "code",
   "execution_count": 104,
   "metadata": {},
   "outputs": [
    {
     "name": "stdout",
     "output_type": "stream",
     "text": [
      "xt: tensor([-2.,  2.,  4.], requires_grad=True)\n",
      "yt: 24.0\n"
     ]
    },
    {
     "data": {
      "text/plain": [
       "tensor([-4.,  4.,  8.])"
      ]
     },
     "execution_count": 104,
     "metadata": {},
     "output_type": "execute_result"
    }
   ],
   "source": [
    "def f(x): return (x**2).sum() # Needs the sum if you are taking in multiple inputs if not it will not return \n",
    "\n",
    "xt = tensor([-2.,2.,4.]).requires_grad_()\n",
    "print(f\"xt: {xt}\")\n",
    "yt = f(xt)\n",
    "print(f\"yt: {yt}\")\n",
    "yt.backward() #compute the backward prop\n",
    "# print(f\"yt: {yt}\")\n",
    "grad = xt.grad\n",
    "grad"
   ]
  },
  {
   "cell_type": "markdown",
   "metadata": {},
   "source": [
    "#### 3. Understanding how the mean function is computed\n",
    "\n",
    "In this example it takes the difference between each xi -> ((v_pred-v_tar)^^2).sum()  / len(v_pred) ->  value/3 -- 2141. Which is the loss value."
   ]
  },
  {
   "cell_type": "code",
   "execution_count": 105,
   "metadata": {},
   "outputs": [
    {
     "data": {
      "text/plain": [
       "tensor(2141.6667, grad_fn=<MeanBackward0>)"
      ]
     },
     "execution_count": 105,
     "metadata": {},
     "output_type": "execute_result"
    }
   ],
   "source": [
    "def mse(preds, targets): return ((preds-targets)**2).mean()\n",
    "\n",
    "v_tar = tensor([30.,20.,10.]).requires_grad_()\n",
    "v_pred = tensor([-30.,-20.,-25.]).requires_grad_()\n",
    "\n",
    "loss = mse(v_pred, v_tar) \n",
    "loss"
   ]
  },
  {
   "cell_type": "markdown",
   "metadata": {},
   "source": [
    "#### 4. Another approach for computing the SGD\n",
    "\n",
    "- In this example we try to create a function and introduce some random noise to it \n",
    "- Then we try to represent it via a quadratic function"
   ]
  },
  {
   "cell_type": "code",
   "execution_count": 106,
   "metadata": {},
   "outputs": [
    {
     "name": "stdout",
     "output_type": "stream",
     "text": [
      "orig params: tensor([ 1.0892, -0.6523, -0.0462], grad_fn=<CloneBackward0>)\n",
      "target speed: tensor([71.7272, 57.0914, 45.8181, 35.1304, 24.8191, 17.6405, 10.0963,  8.9651,  7.0750, -4.2977,  0.7620,  1.9557,  3.3378,  9.3842, 20.8929, 22.8370, 28.2901, 42.9987, 47.6063, 70.1194])\n",
      "pred speed: tensor([-4.6246e-02,  3.9068e-01,  3.0060e+00,  7.7998e+00,  1.4772e+01,  2.3923e+01,  3.5252e+01,  4.8759e+01,  6.4445e+01,  8.2310e+01,  1.0235e+02,  1.2457e+02,  1.4897e+02,  1.7555e+02,\n",
      "         2.0431e+02,  2.3524e+02,  2.6836e+02,  3.0365e+02,  3.4112e+02,  3.8077e+02], grad_fn=<AddBackward0>)\n"
     ]
    },
    {
     "data": {
      "text/plain": [
       "<matplotlib.collections.PathCollection at 0x7fc24d528640>"
      ]
     },
     "execution_count": 106,
     "metadata": {},
     "output_type": "execute_result"
    },
    {
     "data": {
      "image/png": "[encoded data removed]",
      "text/plain": [
       "<Figure size 432x288 with 1 Axes>"
      ]
     },
     "metadata": {
      "needs_background": "light"
     },
     "output_type": "display_data"
    }
   ],
   "source": [
    "import torch\n",
    "from fastai.vision.all import *\n",
    "from fastbook import * #Fast ai supports the plt functionality\n",
    "\n",
    "time = torch.arange(0,20).float(); time\n",
    "speed = torch.randn(20)*3 + 0.75*(time-9.5)**2 + 1\n",
    "\n",
    "plt.scatter(time,speed);\n",
    "\n",
    "#Parametric function which we are trying to guess\n",
    "def f(t, params):\n",
    "    a,b,c = params\n",
    "    return a*(t**2) + (b*t) + c\n",
    "\n",
    "def mse(preds, targets): return ((preds-targets)**2).mean()\n",
    "\n",
    "params = torch.randn(3).requires_grad_()\n",
    "orig_params = params.clone()\n",
    "print(f\"orig params: {orig_params}\")\n",
    "\n",
    "preds = f(time, params) #Calculate the preds\n",
    "\n",
    "print(f\"target speed: {speed}\")\n",
    "print(f\"pred speed: {preds}\")\n",
    "\n",
    "#Temporary detach the torch so i can print out the pred\n",
    "pred_copy = preds.detach().numpy()\n",
    "#Alternate way is to use the to_np library \n",
    "# pred_copy = to_np(preds)\n",
    "\n",
    "plt.scatter(time, pred_copy, color=\"red\") "
   ]
  },
  {
   "cell_type": "code",
   "execution_count": 107,
   "metadata": {},
   "outputs": [
    {
     "name": "stdout",
     "output_type": "stream",
     "text": [
      "loss :24262.6328125\n",
      "params: None\n",
      "params: tensor([51488.2500,  3291.8914,   204.3257])\n"
     ]
    }
   ],
   "source": [
    "#Calculating the loss\n",
    "loss = mse(preds, speed)\n",
    "print(f\"loss :{loss}\")\n",
    "\n",
    "#Before backward propagation\n",
    "print(f\"params: {params.grad}\")\n",
    "\n",
    "#After computing the backwards propagation - THIS THE PART IM SUPER LOST\n",
    "loss.backward()\n",
    "print(f\"params: {params.grad}\") #It finds the gradient of the parametrs after it computes the loss\n",
    "#2at + b\n"
   ]
  },
  {
   "cell_type": "markdown",
   "metadata": {},
   "source": [
    "## 4.1 Mapping quadratic wrt parabolic function\n",
    "This is a more intuitive way to understand sgd"
   ]
  },
  {
   "cell_type": "code",
   "execution_count": 108,
   "metadata": {},
   "outputs": [
    {
     "name": "stdout",
     "output_type": "stream",
     "text": [
      "orig params: tensor([1., 1., 1.], grad_fn=<CloneBackward0>)\n",
      "\n",
      "target out: tensor([1, 4, 9])\n",
      "pred out: tensor([ 3.,  7., 13.], grad_fn=<AddBackward0>)\n",
      "loss val: 9.666666984558105\n",
      "\n",
      "tensor([33.3333, 13.3333,  6.0000])\n",
      "params gradient data: tensor([33.3333, 13.3333,  6.0000])\n",
      "orig params: tensor([1., 1., 1.])\n",
      "\n",
      "Updated params: tensor([0.6667, 0.8667, 0.9400])\n"
     ]
    },
    {
     "data": {
      "image/png": "[encoded data removed]",
      "text/plain": [
       "<Figure size 432x288 with 1 Axes>"
      ]
     },
     "metadata": {
      "needs_background": "light"
     },
     "output_type": "display_data"
    }
   ],
   "source": [
    "import torch\n",
    "from fastai.vision.all import *\n",
    "from fastbook import * #Fast ai supports the plt functionality\n",
    "\n",
    "time = tensor([1.,2.,3.]) #time\n",
    "out = tensor([1,4,9]) # Parabolic function output\n",
    "\n",
    "plt.scatter(time,out)\n",
    "\n",
    "# #Parametric function which we are trying to guess\n",
    "def f(t, params):\n",
    "    a,b,c = params\n",
    "    return a*(t**2) + (b*t) + c\n",
    "\n",
    "def mse(preds, targets): return ((preds-targets)**2).mean()\n",
    "\n",
    "# TODO [READ] By right this should be randomly initialized but I dont initialise it randomly since i want to be able to compute at every step \n",
    "# params = torch.randn(3).requires_grad_() # \n",
    "params = tensor([1.,1.,1.]).requires_grad_()\n",
    "\n",
    "orig_params = params.clone()\n",
    "print(f\"orig params: {orig_params}\")\n",
    "\n",
    "preds = f(time, params) #Calculate the preds give the parameters initialized\n",
    "\n",
    "print(f\"\\ntarget out: {out}\")\n",
    "print(f\"pred out: {preds}\")\n",
    "\n",
    "# #Temporary detach the torch so i can print out the pred\n",
    "# pred_copy = preds.detach().numpy()\n",
    "# #Alternate way is to use the to_np library \n",
    "pred_copy = to_np(preds)\n",
    "\n",
    "plt.scatter(time, pred_copy, color=\"red\") \n",
    "\n",
    "def mse(preds, targets): return ((preds-targets)**2).mean()\n",
    "\n",
    "loss = mse(preds,out)\n",
    "print(f\"loss val: {loss}\")\n",
    "loss.backward()\n",
    "\n",
    "print(f\"\\n{params.grad}\") # Gradient of the parameters\n",
    "print(f\"params gradient data: {params.grad.data}\")\n",
    "print(f\"orig params: {params.data}\") # Original weights\n",
    "\n",
    "#Formula -> w -= gradient(w) * lr \n",
    "lr = 1e-2\n",
    "params.data -= lr * params.grad.data\n",
    "params.grad = None # Zero back the data\n",
    "print(f\"\\nUpdated params: {params.data}\") # Original weights"
   ]
  },
  {
   "cell_type": "markdown",
   "metadata": {},
   "source": [
    "#### Second Pass\n",
    "target = Blue"
   ]
  },
  {
   "cell_type": "code",
   "execution_count": 109,
   "metadata": {},
   "outputs": [
    {
     "name": "stdout",
     "output_type": "stream",
     "text": [
      "target out: tensor([1, 4, 9])\n",
      "pred out: tensor([2.4733, 5.3400, 9.5400], grad_fn=<AddBackward0>)\n",
      "loss val: 1.4193038940429688\n",
      "tensor([7.7956, 3.8489, 2.2356])\n",
      "params gradient data: tensor([7.7956, 3.8489, 2.2356])\n",
      " params data: tensor([0.6667, 0.8667, 0.9400])\n",
      "Params:  tensor([0.5887, 0.8282, 0.9176], requires_grad=True)\n"
     ]
    },
    {
     "data": {
      "image/png": "[encoded data removed]",
      "text/plain": [
       "<Figure size 432x288 with 1 Axes>"
      ]
     },
     "metadata": {
      "needs_background": "light"
     },
     "output_type": "display_data"
    }
   ],
   "source": [
    "#After the data update\n",
    "plt.scatter(time,out)\n",
    "preds = f(time, params) #Calculate the preds\n",
    "\n",
    "print(f\"target out: {out}\")\n",
    "print(f\"pred out: {preds}\")\n",
    "\n",
    "# #Temporary detach the torch so i can print out the pred\n",
    "# pred_copy = preds.detach().numpy()\n",
    "# #Alternate way is to use the to_np library \n",
    "pred_copy = to_np(preds)\n",
    "\n",
    "plt.scatter(time, pred_copy, color=\"red\") \n",
    "loss = mse(preds,out)\n",
    "print(f\"loss val: {loss}\")\n",
    "loss.backward()\n",
    "\n",
    "print(params.grad) # Gradient of the parameters\n",
    "print(f\"params gradient data: {params.grad.data}\")\n",
    "print(f\" params data: {params.data}\") # Original weights\n",
    "#Formula -> w -= gradient(w) * lr \n",
    "lr = 1e-2\n",
    "params.data -= lr * params.grad.data\n",
    "params.grad = None # Zero back the data\n",
    "print(\"Params: \", params)"
   ]
  },
  {
   "cell_type": "markdown",
   "metadata": {},
   "source": [
    "## Third Pass"
   ]
  },
  {
   "cell_type": "code",
   "execution_count": 110,
   "metadata": {},
   "outputs": [
    {
     "name": "stdout",
     "output_type": "stream",
     "text": [
      "target out: tensor([1, 4, 9])\n",
      "pred out: tensor([2.3345, 4.9288, 8.7006], grad_fn=<AddBackward0>)\n",
      "loss val: 0.9111284613609314\n",
      "tensor([1.5701, 1.5293, 1.3093])\n",
      "params gradient data: tensor([1.5701, 1.5293, 1.3093])\n",
      " params data: tensor([0.5887, 0.8282, 0.9176])\n",
      " params data: tensor([0.5730, 0.8129, 0.9046])\n"
     ]
    },
    {
     "data": {
      "image/png": "[encoded data removed]",
      "text/plain": [
       "<Figure size 432x288 with 1 Axes>"
      ]
     },
     "metadata": {
      "needs_background": "light"
     },
     "output_type": "display_data"
    }
   ],
   "source": [
    "#After the data update\n",
    "plt.scatter(time,out)\n",
    "preds = f(time, params) #Calculate the preds\n",
    "\n",
    "print(f\"target out: {out}\")\n",
    "print(f\"pred out: {preds}\")\n",
    "\n",
    "# #Temporary detach the torch so i can print out the pred\n",
    "# pred_copy = preds.detach().numpy()\n",
    "# #Alternate way is to use the to_np library \n",
    "pred_copy = to_np(preds)\n",
    "\n",
    "plt.scatter(time, pred_copy, color=\"red\") \n",
    "loss = mse(preds,out)\n",
    "print(f\"loss val: {loss}\")\n",
    "loss.backward()\n",
    "\n",
    "print(params.grad) # Gradient of the parameters\n",
    "print(f\"params gradient data: {params.grad.data}\")\n",
    "print(f\" params data: {params.data}\") # Original weights\n",
    "#Formula -> w -= gradient(w) * lr \n",
    "lr = 1e-2\n",
    "params.data -= lr * params.grad.data\n",
    "params.grad = None # Zero back the data\n",
    "print(f\" params data: {params.data}\") # Original weights"
   ]
  },
  {
   "cell_type": "markdown",
   "metadata": {},
   "source": [
    "Converges with various iterations according to the learning rate"
   ]
  },
  {
   "cell_type": "markdown",
   "metadata": {},
   "source": [
    "#### Converting from rank 3 tensor to rank 2\n",
    "\n",
    "Difference between rank 3 and rank 2 tensor \n",
    "\n",
    "Rank 2 tensor is a matrix \n",
    "Rank 3 tensor is a stack of matrix\n",
    "\n",
    "Rank 2 tensor can be accessed using (i,j)\n",
    "Rank 3 tensor can be accessed using (i,j,k)\n",
    "\n",
    "Rank 2 tensors are easier to manipulate since they are standard matrix \n",
    "Rank 3 tensors are more complicated to manipulate"
   ]
  },
  {
   "cell_type": "code",
   "execution_count": 111,
   "metadata": {},
   "outputs": [
    {
     "name": "stdout",
     "output_type": "stream",
     "text": [
      "Rank 3 tensor: \n",
      "[[[ 1  2  3]\n",
      "  [ 4  5  6]]\n",
      "\n",
      " [[ 7  8  9]\n",
      "  [10 11 12]]]\n",
      "Rank 3 tensor shape: (2, 2, 3)\n",
      "\n",
      "Rank 2 tensor: \n",
      "[[ 1  2  3]\n",
      " [ 4  5  6]\n",
      " [ 7  8  9]\n",
      " [10 11 12]]\n",
      "Rank 2 tensor shape: (4, 3)\n"
     ]
    }
   ],
   "source": [
    "import numpy as np\n",
    "\n",
    "# Create a rank-3 tensor - List of matrix \n",
    "tensor_3d = np.array([\n",
    "    [[1, 2, 3], [4, 5, 6]],\n",
    "    [[7, 8, 9], [10, 11, 12]]\n",
    "])\n",
    "\n",
    "# Flattening the tensor\n",
    "tensor_2d_flattened = tensor_3d.reshape(-1, tensor_3d.shape[-1])\n",
    "print(f\"Rank 3 tensor: \\n{tensor_3d}\")\n",
    "print(f\"Rank 3 tensor shape: {tensor_3d.shape}\")\n",
    "print(f\"\\nRank 2 tensor: \\n{tensor_2d_flattened}\")\n",
    "print(f\"Rank 2 tensor shape: {tensor_2d_flattened.shape}\")\n",
    "\n",
    "# print(tensor_2d_flattened)\n",
    "# print(tensor_3d.shape)\n",
    "# print(tensor_2d_flattened.shape)"
   ]
  },
  {
   "cell_type": "markdown",
   "metadata": {},
   "source": [
    "Understanding how the view function works"
   ]
  },
  {
   "cell_type": "code",
   "execution_count": 115,
   "metadata": {},
   "outputs": [
    {
     "name": "stdout",
     "output_type": "stream",
     "text": [
      "torch.Size([2, 2, 2])\n"
     ]
    },
    {
     "data": {
      "text/plain": [
       "tensor([[ 1,  2,  3,  4],\n",
       "        [ 5,  6,  7,  8],\n",
       "        [ 9, 10, 11, 12],\n",
       "        [13, 14, 15, 16]])"
      ]
     },
     "execution_count": 115,
     "metadata": {},
     "output_type": "execute_result"
    }
   ],
   "source": [
    "tensor_3d = torch.tensor([[[1, 2], [3, 4]], [[5, 6], [7, 8]]]) # [2,2,2] shape\n",
    "print(f\"{tensor_3d.shape}\")\n",
    "\n",
    "sec_tensor_3d = torch.tensor([[[9, 10], [11, 12]], [[13, 14], [15, 16]]])\n",
    "sec_tensor_3d\n",
    "\n",
    "test_tensor = torch.cat([tensor_3d, sec_tensor_3d]).view(-1, 2*2)\n",
    "test_tensor\n",
    "\n"
   ]
  },
  {
   "cell_type": "markdown",
   "metadata": {},
   "source": [
    "# Question Bank"
   ]
  },
  {
   "cell_type": "markdown",
   "metadata": {},
   "source": [
    "### Writing a custom Learner class"
   ]
  },
  {
   "cell_type": "markdown",
   "metadata": {},
   "source": [
    "Data Loader Class\n",
    "- Consist of flattening the matrix from 28*28 to a 784 repr\n",
    "- Training set: 6265 threes, 6131 sevens, total: 12396\n",
    "- Test set:     1010 threes, 1028 sevens, total: 2038"
   ]
  },
  {
   "cell_type": "code",
   "execution_count": null,
   "metadata": {},
   "outputs": [],
   "source": [
    "#dset - Mapping of the flattened 28*28 matrix and their numeric repr \n",
    "#e.g for 3/7 ->  x[728]y[1] -> [123,12,35,...][1]\n",
    "\n",
    "# 6265 threes, 6131 sevens  - 12396 total for train_x and train_y\n",
    "train_x = torch.cat([stacked_threes, stacked_sevens]).view(-1, 28*28)\n",
    "\n",
    "dset = list(zip(train_x,train_y))\n",
    "x,y = dset[0]\n",
    "x.shape,y\n",
    "#(torch.Size([784]), tensor([1])) , len = 12396\n",
    "\n",
    "#Valid dset\n",
    "valid_x = torch.cat([valid_3_tens, valid_7_tens]).view(-1, 28*28)\n",
    "valid_y = tensor([1]*len(valid_3_tens) + [0]*len(valid_7_tens)).unsqueeze(1)\n",
    "valid_dset = list(zip(valid_x,valid_y))\n",
    "len(valid_dset)\n",
    "#(torch.Size([784]), tensor([1])) # len=2038\n",
    "# 1010 - threes, 1028 - sevens\n",
    "\n",
    "#DL/Valid dl initializer \n",
    "dl = DataLoader(dset, batch_size=256)\n",
    "xb,yb = first(dl)\n",
    "xb.shape,yb.shape\n",
    "#(torch.Size([256, 784]), torch.Size([256, 1]))\n",
    "\n",
    "valid_dl = DataLoader(valid_dset, batch_size=256)\n",
    "\n",
    "#Data loader class \n",
    "dls = DataLoaders(dl, valid_dl) # Training and validation set\n",
    "\n"
   ]
  },
  {
   "cell_type": "markdown",
   "metadata": {},
   "source": [
    "Neural network class\n",
    "- will be able to compute the backward pass \n",
    "\n",
    "Opt_func = SGD just uses some other initializer class "
   ]
  },
  {
   "cell_type": "code",
   "execution_count": null,
   "metadata": {},
   "outputs": [],
   "source": [
    "\n",
    "# Learner model passes this\n",
    "opt = SGD(linear_model.parameters(), lr) # Need to check what this opt function does\n",
    "\n",
    "def mnist_loss(predictions, targets):\n",
    "    return torch.where(targets==1, 1-predictions, predictions).mean()\n",
    "\n",
    "def batch_accuracy(xb, yb):\n",
    "    preds = xb.sigmoid()\n",
    "    correct = (preds>0.5) == yb\n",
    "    return correct.float().mean()\n",
    "\n",
    "batch_accuracy(linear1(batch), train_y[:4])\n",
    "\n",
    "#Metrics k"
   ]
  },
  {
   "cell_type": "code",
   "execution_count": null,
   "metadata": {},
   "outputs": [],
   "source": [
    "# Initializer call for learner class\n",
    "learn = Learner(dls, nn.Linear(28*28,1), opt_func=SGD,\n",
    "                loss_func=mnist_loss, metrics=batch_accuracy)\n",
    "\n",
    "# Method call\n",
    "learn.fit(10, lr=lr)"
   ]
  },
  {
   "cell_type": "code",
   "execution_count": null,
   "metadata": {},
   "outputs": [],
   "source": [
    "class customLearner(object):\n",
    "\n",
    "    def __init__(self, dls,nn,opt_func, loss_func, metrics=None):\n",
    "        '''\n",
    "            DLS Class \n",
    "            Train -> each with [784 x 1]  12396\n",
    "            Test -> [784 x 1] 2038\n",
    "\n",
    "        '''\n",
    "        self.dls = dls #DataLoader class\n",
    "        self.nn = nn\n",
    "        self.opt_func = opt_func\n",
    "        self.loss_func = loss_func\n",
    "        self.metrics = metrics\n",
    "        self.check_dls = check_dls()\n",
    "        pass\n",
    "\n",
    "def check_dls():\n",
    "    train, valid =  self.dls\n",
    "    print(f\"Train Batch size: {train.shape}\")\n",
    "    print(f\"Valid Batch size: {valid.shape}\")\n",
    "    pass\n",
    "\n",
    "\n",
    "    def fit(batches, lr):\n",
    "        #Iterate through the batches - Extract 10 from each\n",
    "\n",
    "        pass"
   ]
  },
  {
   "cell_type": "markdown",
   "metadata": {},
   "source": []
  }
 ],
 "metadata": {
  "kernelspec": {
   "display_name": "Python 3",
   "language": "python",
   "name": "python3"
  },
  "language_info": {
   "codemirror_mode": {
    "name": "ipython",
    "version": 3
   },
   "file_extension": ".py",
   "mimetype": "text/x-python",
   "name": "python",
   "nbconvert_exporter": "python",
   "pygments_lexer": "ipython3",
   "version": "3.8.8"
  }
 },
 "nbformat": 4,
 "nbformat_minor": 2
}
